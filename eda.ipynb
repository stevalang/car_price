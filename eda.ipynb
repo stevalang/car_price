{
 "cells": [
  {
   "cell_type": "code",
   "execution_count": 6,
   "id": "stupid-stack",
   "metadata": {},
   "outputs": [],
   "source": [
    "import pandas as pd\n",
    "import glob\n",
    "\n",
    "path = r'/Users/stevalang/Galvanize/capstones/capstone2/car_price/data'\n",
    "all_files = glob.glob(path + \"/*.csv\")\n",
    "\n",
    "li = []\n",
    "\n",
    "for filename in all_files:\n",
    "    df = pd.read_csv(filename, index_col=None, header=0)\n",
    "    li.append(df)\n",
    "#save the dataframes into csv file\n",
    "# cars.to_csv(\"all_cities.csv\")\n",
    "# cars = pd.concat(li, axis=0, ignore_index=True)"
   ]
  },
  {
   "cell_type": "code",
   "execution_count": 8,
   "id": "separated-bullet",
   "metadata": {},
   "outputs": [],
   "source": [
    "cars = pd.read_csv('data/all_cities.csv')"
   ]
  },
  {
   "cell_type": "code",
   "execution_count": 10,
   "id": "meaningful-annotation",
   "metadata": {},
   "outputs": [
    {
     "data": {
      "text/plain": [
       "(45000, 9)"
      ]
     },
     "execution_count": 10,
     "metadata": {},
     "output_type": "execute_result"
    }
   ],
   "source": [
    "cars.shape"
   ]
  },
  {
   "cell_type": "code",
   "execution_count": 11,
   "id": "forward-preparation",
   "metadata": {},
   "outputs": [
    {
     "data": {
      "text/html": [
       "<div>\n",
       "<style scoped>\n",
       "    .dataframe tbody tr th:only-of-type {\n",
       "        vertical-align: middle;\n",
       "    }\n",
       "\n",
       "    .dataframe tbody tr th {\n",
       "        vertical-align: top;\n",
       "    }\n",
       "\n",
       "    .dataframe thead th {\n",
       "        text-align: right;\n",
       "    }\n",
       "</style>\n",
       "<table border=\"1\" class=\"dataframe\">\n",
       "  <thead>\n",
       "    <tr style=\"text-align: right;\">\n",
       "      <th></th>\n",
       "      <th>Unnamed: 0</th>\n",
       "      <th>Price</th>\n",
       "      <th>Location</th>\n",
       "      <th>Title</th>\n",
       "      <th>Link</th>\n",
       "      <th>Date</th>\n",
       "    </tr>\n",
       "  </thead>\n",
       "  <tbody>\n",
       "    <tr>\n",
       "      <th>0</th>\n",
       "      <td>0</td>\n",
       "      <td>$16,033</td>\n",
       "      <td>CALL 916-304-9616 !!</td>\n",
       "      <td>2014 Honda Accord Sedan LX sedan Modern Steel ...</td>\n",
       "      <td>https://sacramento.craigslist.org/ctd/d/sacram...</td>\n",
       "      <td>Mar 30</td>\n",
       "    </tr>\n",
       "    <tr>\n",
       "      <th>1</th>\n",
       "      <td>1</td>\n",
       "      <td>$32,088</td>\n",
       "      <td>CALL 916-304-9616 !!</td>\n",
       "      <td>2018 Ram 1500 Harvest pickup Brilliant Black C...</td>\n",
       "      <td>https://sacramento.craigslist.org/ctd/d/sacram...</td>\n",
       "      <td>Mar 30</td>\n",
       "    </tr>\n",
       "    <tr>\n",
       "      <th>2</th>\n",
       "      <td>2</td>\n",
       "      <td>$16,688</td>\n",
       "      <td>CALL 916-304-9616 !!</td>\n",
       "      <td>2015 Lexus ES 350 With Navigation and Premium ...</td>\n",
       "      <td>https://sacramento.craigslist.org/ctd/d/sacram...</td>\n",
       "      <td>Mar 30</td>\n",
       "    </tr>\n",
       "    <tr>\n",
       "      <th>3</th>\n",
       "      <td>3</td>\n",
       "      <td>$11,878</td>\n",
       "      <td>CALL 916-304-9616 !!</td>\n",
       "      <td>2015 Honda Civic Coupe EX coupe Crystal Black ...</td>\n",
       "      <td>https://sacramento.craigslist.org/ctd/d/sacram...</td>\n",
       "      <td>Mar 30</td>\n",
       "    </tr>\n",
       "    <tr>\n",
       "      <th>4</th>\n",
       "      <td>4</td>\n",
       "      <td>$17,999</td>\n",
       "      <td>CALL 916-304-9616 !!</td>\n",
       "      <td>2018 Hyundai Santa Fe Sport 2.4L suv Nightfall...</td>\n",
       "      <td>https://sacramento.craigslist.org/ctd/d/sacram...</td>\n",
       "      <td>Mar 30</td>\n",
       "    </tr>\n",
       "  </tbody>\n",
       "</table>\n",
       "</div>"
      ],
      "text/plain": [
       "   Unnamed: 0    Price              Location  \\\n",
       "0           0  $16,033  CALL 916-304-9616 !!   \n",
       "1           1  $32,088  CALL 916-304-9616 !!   \n",
       "2           2  $16,688  CALL 916-304-9616 !!   \n",
       "3           3  $11,878  CALL 916-304-9616 !!   \n",
       "4           4  $17,999  CALL 916-304-9616 !!   \n",
       "\n",
       "                                               Title  \\\n",
       "0  2014 Honda Accord Sedan LX sedan Modern Steel ...   \n",
       "1  2018 Ram 1500 Harvest pickup Brilliant Black C...   \n",
       "2  2015 Lexus ES 350 With Navigation and Premium ...   \n",
       "3  2015 Honda Civic Coupe EX coupe Crystal Black ...   \n",
       "4  2018 Hyundai Santa Fe Sport 2.4L suv Nightfall...   \n",
       "\n",
       "                                                Link    Date  \n",
       "0  https://sacramento.craigslist.org/ctd/d/sacram...  Mar 30  \n",
       "1  https://sacramento.craigslist.org/ctd/d/sacram...  Mar 30  \n",
       "2  https://sacramento.craigslist.org/ctd/d/sacram...  Mar 30  \n",
       "3  https://sacramento.craigslist.org/ctd/d/sacram...  Mar 30  \n",
       "4  https://sacramento.craigslist.org/ctd/d/sacram...  Mar 30  "
      ]
     },
     "execution_count": 11,
     "metadata": {},
     "output_type": "execute_result"
    }
   ],
   "source": [
    "cars.head()"
   ]
  },
  {
   "cell_type": "code",
   "execution_count": 11,
   "id": "stuffed-regression",
   "metadata": {},
   "outputs": [
    {
     "data": {
      "image/png": "[encoded data removed]",
      "text/plain": [
       "<Figure size 720x432 with 1 Axes>"
      ]
     },
     "metadata": {
      "needs_background": "light"
     },
     "output_type": "display_data"
    }
   ],
   "source": [
    "#start to look at the distributions\n",
    "from matplotlib import figure\n",
    "import seaborn as sns\n",
    "import matplotlib.pyplot as plt\n",
    "%matplotlib inline\n",
    "\n",
    "plt.figure(figsize=(10, 6))\n",
    "plt.hist(cars['Price'], edgecolor='black');\n",
    "plt.xlabel(\"Price\")\n",
    "plt.ylabel('Count')\n",
    "plt.title(\"Distribution of Prices\");"
   ]
  },
  {
   "cell_type": "code",
   "execution_count": null,
   "id": "martial-ballot",
   "metadata": {},
   "outputs": [],
   "source": []
  }
 ],
 "metadata": {
  "kernelspec": {
   "display_name": "Python 3",
   "language": "python",
   "name": "python3"
  },
  "language_info": {
   "codemirror_mode": {
    "name": "ipython",
    "version": 3
   },
   "file_extension": ".py",
   "mimetype": "text/x-python",
   "name": "python",
   "nbconvert_exporter": "python",
   "pygments_lexer": "ipython3",
   "version": "3.8.2"
  }
 },
 "nbformat": 4,
 "nbformat_minor": 5
}
