{
 "cells": [
  {
   "cell_type": "code",
   "execution_count": 4,
   "id": "israeli-adjustment",
   "metadata": {},
   "outputs": [],
   "source": [
    "import warnings\n",
    "warnings.filterwarnings('ignore')\n",
    "# Beautiful Soup parses HTML documents in python.\n",
    "from bs4 import BeautifulSoup\n",
    "from requests import get"
   ]
  },
  {
   "cell_type": "code",
   "execution_count": null,
   "id": "liable-eating",
   "metadata": {},
   "outputs": [],
   "source": [
    "def add_to_df(soup):\n",
    "    link_list = []\n",
    "    listing_prices = []\n",
    "    prices = []\n",
    "    hoods = []\n",
    "    titles = []\n",
    "    make_model = []\n",
    "    year = []\n",
    "    miles = []\n",
    "    odometer = []\n",
    "    date = []\n",
    "    \n",
    "    for car in soup.find_all('li', class_= 'result-row'):\n",
    "\n",
    "        try:\n",
    "            location = str(car.find(class_ = \"result-hood\").contents)\n",
    "            hoods.append(location[4:-3])\n",
    "        except:\n",
    "            hoods.append('N/A')\n",
    "\n",
    "        try:\n",
    "            prices.append(car.find(class_ = \"result-price\").contents)\n",
    "        except:\n",
    "            #not possible\n",
    "            prices.append('N/A')\n",
    "\n",
    "        try:\n",
    "            titles.append(car.find(class_ = \"result-title hdrlnk\").contents)\n",
    "        except:\n",
    "            titles.append('N/A')\n",
    "\n",
    "        try:\n",
    "            date.append(car.find(class_ = \"result-date\").contents)\n",
    "        except:\n",
    "            date.append('N/A')\n",
    "\n",
    "\n",
    "    for car in soup.findAll(\"a\", {\"class\": \"result-title hdrlnk\"}):\n",
    "        link_list.append(car['href'])\n",
    "\n",
    "    return [prices, hoods, titles,link_list, date]\n",
    "\n"
   ]
  },
  {
   "cell_type": "code",
   "execution_count": 2,
   "id": "pointed-observer",
   "metadata": {},
   "outputs": [],
   "source": [
    "def craigs_list(locations, min_price, max_price, min_year, max_year):\n",
    "    \n",
    "    dfs = []\n",
    "    master = []\n",
    "    \n",
    "    for location in locations:\n",
    "        \n",
    "        s = 0\n",
    "        \n",
    "        url = 'https://' + str(location) + '.craigslist.org/search/cta?s='\\\n",
    "        + str(s) + '&min_price=' + str(min_price) + '&max_price=' + str(max_price)\\\n",
    "        + '&min_auto_year=' + str(min_year) +'&max_auto_year=' + str(max_year)\n",
    "        \n",
    "        r = get(url)\n",
    "        html_page = r.text\n",
    "        soup = BeautifulSoup(html_page, 'lxml')\n",
    "        total = str(soup.findAll('span', {'class': 'totalcount'})[0].contents)[2:-2]\n",
    "        count = int(total)/120\n",
    "        \n",
    "#         while(count > 0):\n",
    "        print(count)\n",
    "        url = \"https://\"+ str(location) + \".craigslist.org/search/cta?s=\"\\\n",
    "        + str(s) + \"&min_price=\" + str(min_price) + \"&max_price=\"\\\n",
    "        + str(max_price) + \"&min_auto_year=\" + str(min_year)\\\n",
    "        + \"&max_auto_year=\" + str(max_year) + \"&condition=\" + str(condition)\\\n",
    "        + \"&auto_make_model=\" + str(auto_make_model) + \"&auto_bodytype=\" + str(auto_bodytype)\\\n",
    "        + \"&auto_cylinders=\" + str(auto_cylinders) + \"&auto_fuel_type=\" + str(auto_fuel_type)\\\n",
    "        + \"&auto_size=\" + str(auto_size) + \"&auto_title_status=\" + str(auto_title_status)\n",
    "        print(url)\n",
    "        r = get(url)\n",
    "        html_page = r.text\n",
    "        soup = bs4(html_page, 'lxml')\n",
    "\n",
    "        values = add_to_df(soup)\n",
    "        s = s + 120\n",
    "        count = count - 1\n",
    "\n",
    "        craig_df = pd.DataFrame(np.column_stack([values[0], values[1], values[2],\\\n",
    "                                                 values[3], values[4], values[5],\\\n",
    "                                                 values[6], values[7], values[8], \\\n",
    "                                                 values[9], values[10], values[11]]),\n",
    "            columns = [\"Location\", \"Price\", \"Title\", \"Link\", \"Date\", \"Condition\",\\\n",
    "                       \"AutoMake\", 'Type', \"AutoCylinders\", \"FuelType\", \"AutoSize\",\\\n",
    "                      \"TitleStatus\"])\n",
    "        craig_df = craig_df.dropna()\n",
    "\n",
    "        dfs.append(craig_df)\n",
    "\n",
    "        craig_df = 0\n",
    "            \n",
    "        #concat all dfs here\n",
    "        d = pd.concat(dfs)\n",
    "        master.append(d)\n",
    "        d = []\n",
    "        dfs = []\n",
    "            \n",
    "    return master"
   ]
  },
  {
   "cell_type": "code",
   "execution_count": 5,
   "id": "russian-opposition",
   "metadata": {},
   "outputs": [
    {
     "name": "stdout",
     "output_type": "stream",
     "text": [
      "25.0\n"
     ]
    },
    {
     "ename": "NameError",
     "evalue": "name 'condition' is not defined",
     "output_type": "error",
     "traceback": [
      "\u001b[0;31m---------------------------------------------------------------------------\u001b[0m",
      "\u001b[0;31mNameError\u001b[0m                                 Traceback (most recent call last)",
      "\u001b[0;32m<ipython-input-5-ad13da4f263a>\u001b[0m in \u001b[0;36m<module>\u001b[0;34m\u001b[0m\n\u001b[1;32m      4\u001b[0m \u001b[0mmin_year\u001b[0m \u001b[0;34m=\u001b[0m \u001b[0;36m2000\u001b[0m\u001b[0;34m\u001b[0m\u001b[0;34m\u001b[0m\u001b[0m\n\u001b[1;32m      5\u001b[0m \u001b[0mmax_year\u001b[0m \u001b[0;34m=\u001b[0m \u001b[0;36m2020\u001b[0m\u001b[0;34m\u001b[0m\u001b[0;34m\u001b[0m\u001b[0m\n\u001b[0;32m----> 6\u001b[0;31m \u001b[0mdf\u001b[0m \u001b[0;34m=\u001b[0m \u001b[0mcraigs_list\u001b[0m\u001b[0;34m(\u001b[0m\u001b[0mlocations\u001b[0m\u001b[0;34m,\u001b[0m \u001b[0mmin_price\u001b[0m\u001b[0;34m,\u001b[0m \u001b[0mmax_price\u001b[0m\u001b[0;34m,\u001b[0m \u001b[0mmin_year\u001b[0m\u001b[0;34m,\u001b[0m \u001b[0mmax_year\u001b[0m\u001b[0;34m)\u001b[0m\u001b[0;34m\u001b[0m\u001b[0;34m\u001b[0m\u001b[0m\n\u001b[0m",
      "\u001b[0;32m<ipython-input-2-559b0b8f372c>\u001b[0m in \u001b[0;36mcraigs_list\u001b[0;34m(locations, min_price, max_price, min_year, max_year)\u001b[0m\n\u001b[1;32m     23\u001b[0m         \u001b[0;34m+\u001b[0m \u001b[0mstr\u001b[0m\u001b[0;34m(\u001b[0m\u001b[0ms\u001b[0m\u001b[0;34m)\u001b[0m \u001b[0;34m+\u001b[0m \u001b[0;34m\"&min_price=\"\u001b[0m \u001b[0;34m+\u001b[0m \u001b[0mstr\u001b[0m\u001b[0;34m(\u001b[0m\u001b[0mmin_price\u001b[0m\u001b[0;34m)\u001b[0m \u001b[0;34m+\u001b[0m \u001b[0;34m\"&max_price=\"\u001b[0m\u001b[0;31m\\\u001b[0m\u001b[0;34m\u001b[0m\u001b[0;34m\u001b[0m\u001b[0m\n\u001b[1;32m     24\u001b[0m         \u001b[0;34m+\u001b[0m \u001b[0mstr\u001b[0m\u001b[0;34m(\u001b[0m\u001b[0mmax_price\u001b[0m\u001b[0;34m)\u001b[0m \u001b[0;34m+\u001b[0m \u001b[0;34m\"&min_auto_year=\"\u001b[0m \u001b[0;34m+\u001b[0m \u001b[0mstr\u001b[0m\u001b[0;34m(\u001b[0m\u001b[0mmin_year\u001b[0m\u001b[0;34m)\u001b[0m\u001b[0;31m\\\u001b[0m\u001b[0;34m\u001b[0m\u001b[0;34m\u001b[0m\u001b[0m\n\u001b[0;32m---> 25\u001b[0;31m         \u001b[0;34m+\u001b[0m \u001b[0;34m\"&max_auto_year=\"\u001b[0m \u001b[0;34m+\u001b[0m \u001b[0mstr\u001b[0m\u001b[0;34m(\u001b[0m\u001b[0mmax_year\u001b[0m\u001b[0;34m)\u001b[0m \u001b[0;34m+\u001b[0m \u001b[0;34m\"&condition=\"\u001b[0m \u001b[0;34m+\u001b[0m \u001b[0mstr\u001b[0m\u001b[0;34m(\u001b[0m\u001b[0mcondition\u001b[0m\u001b[0;34m)\u001b[0m\u001b[0;31m\\\u001b[0m\u001b[0;34m\u001b[0m\u001b[0;34m\u001b[0m\u001b[0m\n\u001b[0m\u001b[1;32m     26\u001b[0m         \u001b[0;34m+\u001b[0m \u001b[0;34m\"&auto_make_model=\"\u001b[0m \u001b[0;34m+\u001b[0m \u001b[0mstr\u001b[0m\u001b[0;34m(\u001b[0m\u001b[0mauto_make_model\u001b[0m\u001b[0;34m)\u001b[0m \u001b[0;34m+\u001b[0m \u001b[0;34m\"&auto_bodytype=\"\u001b[0m \u001b[0;34m+\u001b[0m \u001b[0mstr\u001b[0m\u001b[0;34m(\u001b[0m\u001b[0mauto_bodytype\u001b[0m\u001b[0;34m)\u001b[0m\u001b[0;31m\\\u001b[0m\u001b[0;34m\u001b[0m\u001b[0;34m\u001b[0m\u001b[0m\n\u001b[1;32m     27\u001b[0m         \u001b[0;34m+\u001b[0m \u001b[0;34m\"&auto_cylinders=\"\u001b[0m \u001b[0;34m+\u001b[0m \u001b[0mstr\u001b[0m\u001b[0;34m(\u001b[0m\u001b[0mauto_cylinders\u001b[0m\u001b[0;34m)\u001b[0m \u001b[0;34m+\u001b[0m \u001b[0;34m\"&auto_fuel_type=\"\u001b[0m \u001b[0;34m+\u001b[0m \u001b[0mstr\u001b[0m\u001b[0;34m(\u001b[0m\u001b[0mauto_fuel_type\u001b[0m\u001b[0;34m)\u001b[0m\u001b[0;31m\\\u001b[0m\u001b[0;34m\u001b[0m\u001b[0;34m\u001b[0m\u001b[0m\n",
      "\u001b[0;31mNameError\u001b[0m: name 'condition' is not defined"
     ]
    }
   ],
   "source": [
    "locations = ['sacramento']\n",
    "min_price = 500\n",
    "max_price= 50000\n",
    "min_year = 2000\n",
    "max_year = 2020\n",
    "df = craigs_list(locations, min_price, max_price, min_year, max_year)"
   ]
  },
  {
   "cell_type": "code",
   "execution_count": null,
   "id": "developed-london",
   "metadata": {},
   "outputs": [],
   "source": []
  }
 ],
 "metadata": {
  "kernelspec": {
   "display_name": "Python 3",
   "language": "python",
   "name": "python3"
  },
  "language_info": {
   "codemirror_mode": {
    "name": "ipython",
    "version": 3
   },
   "file_extension": ".py",
   "mimetype": "text/x-python",
   "name": "python",
   "nbconvert_exporter": "python",
   "pygments_lexer": "ipython3",
   "version": "3.8.2"
  }
 },
 "nbformat": 4,
 "nbformat_minor": 5
}
